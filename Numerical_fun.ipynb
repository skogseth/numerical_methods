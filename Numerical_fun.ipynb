{
 "cells": [
  {
   "cell_type": "markdown",
   "metadata": {},
   "source": [
    "## General stuff"
   ]
  },
  {
   "cell_type": "code",
   "execution_count": 1,
   "metadata": {},
   "outputs": [],
   "source": [
    "import time"
   ]
  },
  {
   "cell_type": "code",
   "execution_count": 2,
   "metadata": {},
   "outputs": [],
   "source": [
    "def time_function(f):\n",
    "    start = time.time()\n",
    "    val = f\n",
    "    end = time.time()\n",
    "    return end-start"
   ]
  },
  {
   "cell_type": "markdown",
   "metadata": {},
   "source": [
    "## Newton's method"
   ]
  },
  {
   "cell_type": "code",
   "execution_count": 3,
   "metadata": {},
   "outputs": [],
   "source": [
    "def newtons_method(f,df,x0,tol=10e-5,max_it=1000):\n",
    "    i=0\n",
    "    xn = x0\n",
    "    while i<max_it and abs(f(xn))>tol:\n",
    "        if df(xn)==0: print(\"Derivative is zero\"); break\n",
    "        else: xn -= f(xn)/df(xn)\n",
    "        i+=1;\n",
    "    return xn"
   ]
  },
  {
   "cell_type": "markdown",
   "metadata": {},
   "source": [
    "## Implicit midpoint"
   ]
  },
  {
   "cell_type": "code",
   "execution_count": 4,
   "metadata": {},
   "outputs": [],
   "source": [
    "import numpy as np\n",
    "from matplotlib import pyplot as plt"
   ]
  },
  {
   "cell_type": "code",
   "execution_count": 29,
   "metadata": {},
   "outputs": [],
   "source": [
    "omega = 2*np.pi*0.5\n",
    "kappa = -0.8\n",
    "def f(t,x): return kappa*x"
   ]
  },
  {
   "cell_type": "code",
   "execution_count": 30,
   "metadata": {},
   "outputs": [],
   "source": [
    "def implicit_midpoint(f,y0,t0,tf,h=0.01):\n",
    "    N = int((tf-t0)/h)+1\n",
    "    t = np.linspace(t0,tf,N)\n",
    "    y = np.zeros(N)\n",
    "    y[0] = y0\n",
    "    \n",
    "    for n in range(N-1):\n",
    "        tn = t[n]; yn = y[n]\n",
    "        y_est = yn+h*f(tn,yn)\n",
    "        g = lambda x: x-yn-h*f(tn+h/2,yn/2+x/2)\n",
    "        dg = lambda x: 1-f(tn,x)\n",
    "        y[n+1] = newtons_method(g,dg,y_est)\n",
    "         \n",
    "    return t,y"
   ]
  },
  {
   "cell_type": "code",
   "execution_count": 31,
   "metadata": {},
   "outputs": [],
   "source": [
    "y0 = 5\n",
    "t0 = 0\n",
    "tf = 10\n",
    "t,y_num = implicit_midpoint(f,y0,t0,tf,0.5)\n",
    "N = len(t); y_sol = np.zeros(N);\n",
    "for n in range(N): y_sol[n] = y0*np.exp(kappa*t[n])"
   ]
  },
  {
   "cell_type": "code",
   "execution_count": 32,
   "metadata": {},
   "outputs": [
    {
     "data": {
      "image/png": "[encoded data removed]",
      "text/plain": [
       "<Figure size 432x288 with 1 Axes>"
      ]
     },
     "metadata": {
      "needs_background": "light"
     },
     "output_type": "display_data"
    }
   ],
   "source": [
    "plt.plot(t,y_num,label=\"y_num\")\n",
    "#plt.plot(t,y_sol,label=\"y_sol\")\n",
    "plt.xlabel(\"t\")\n",
    "plt.ylabel(\"y\")\n",
    "plt.legend()\n",
    "plt.show()"
   ]
  },
  {
   "cell_type": "code",
   "execution_count": null,
   "metadata": {},
   "outputs": [],
   "source": []
  }
 ],
 "metadata": {
  "kernelspec": {
   "display_name": "Python 3",
   "language": "python",
   "name": "python3"
  },
  "language_info": {
   "codemirror_mode": {
    "name": "ipython",
    "version": 3
   },
   "file_extension": ".py",
   "mimetype": "text/x-python",
   "name": "python",
   "nbconvert_exporter": "python",
   "pygments_lexer": "ipython3",
   "version": "3.7.4"
  }
 },
 "nbformat": 4,
 "nbformat_minor": 2
}
